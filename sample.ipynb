{
 "cells": [
  {
   "cell_type": "code",
   "execution_count": 1,
   "id": "98274d80",
   "metadata": {},
   "outputs": [],
   "source": [
    "import numpy as np \n",
    "import pandas as pd "
   ]
  },
  {
   "cell_type": "code",
   "execution_count": 3,
   "id": "012b8b3f",
   "metadata": {},
   "outputs": [],
   "source": [
    "sample = pd.read_csv(\"/grps2/dmtownsley/iemartinez/FLASH_MESA/sample.data\", sep=r'\\s+')"
   ]
  },
  {
   "cell_type": "code",
   "execution_count": 7,
   "id": "117556a7",
   "metadata": {},
   "outputs": [],
   "source": [
    "particle = 82358\n",
    "history = pd.read_csv(f\"template_run/timesteps/timestep_abundances_{particle}.data\", sep=r'\\s+')"
   ]
  },
  {
   "cell_type": "code",
   "execution_count": 8,
   "id": "73685165",
   "metadata": {},
   "outputs": [
    {
     "data": {
      "text/plain": [
       "Index(['i', 'signed_log_avg_eps_nuc', 'avg_eps_nuc', 'signed_log_eps_nuc',\n",
       "       'eps_nuc', 'eps_neu', 'delta_logT', 'logT', 'logRho', 'logPgas',\n",
       "       ...\n",
       "       'cu65', 'cu66', 'zn59', 'zn60', 'zn61', 'zn62', 'zn63', 'zn64', 'zn65',\n",
       "       'zn66'],\n",
       "      dtype='object', length=432)"
      ]
     },
     "execution_count": 8,
     "metadata": {},
     "output_type": "execute_result"
    }
   ],
   "source": [
    "history.keys()"
   ]
  },
  {
   "cell_type": "code",
   "execution_count": null,
   "id": "c319c7cb",
   "metadata": {},
   "outputs": [],
   "source": [
    "def get_initial (id):\n",
    "    print(f'Rho_0 {history[id]}')\n"
   ]
  }
 ],
 "metadata": {
  "kernelspec": {
   "display_name": "myenv",
   "language": "python",
   "name": "python3"
  },
  "language_info": {
   "codemirror_mode": {
    "name": "ipython",
    "version": 3
   },
   "file_extension": ".py",
   "mimetype": "text/x-python",
   "name": "python",
   "nbconvert_exporter": "python",
   "pygments_lexer": "ipython3",
   "version": "3.11.7"
  }
 },
 "nbformat": 4,
 "nbformat_minor": 5
}
